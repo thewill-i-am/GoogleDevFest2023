{
 "cells": [
  {
   "cell_type": "code",
   "execution_count": 1,
   "id": "97e4aeb4",
   "metadata": {},
   "outputs": [],
   "source": [
    "# !pip install pandas\n",
    "# !pip install scikit-learn"
   ]
  },
  {
   "cell_type": "code",
   "execution_count": 2,
   "id": "a857a662",
   "metadata": {},
   "outputs": [
    {
     "name": "stderr",
     "output_type": "stream",
     "text": [
      "2023-04-19 20:15:24.362051: I tensorflow/tsl/cuda/cudart_stub.cc:28] Could not find cuda drivers on your machine, GPU will not be used.\n",
      "2023-04-19 20:15:24.466689: I tensorflow/tsl/cuda/cudart_stub.cc:28] Could not find cuda drivers on your machine, GPU will not be used.\n",
      "2023-04-19 20:15:24.467771: I tensorflow/core/platform/cpu_feature_guard.cc:182] This TensorFlow binary is optimized to use available CPU instructions in performance-critical operations.\n",
      "To enable the following instructions: AVX2 FMA, in other operations, rebuild TensorFlow with the appropriate compiler flags.\n",
      "2023-04-19 20:15:25.472495: W tensorflow/compiler/tf2tensorrt/utils/py_utils.cc:38] TF-TRT Warning: Could not find TensorRT\n"
     ]
    }
   ],
   "source": [
    "# imports:\n",
    "import os\n",
    "import numpy as np\n",
    "import pandas as pd\n",
    "from PIL import Image\n",
    "\n",
    "from tensorflow.keras.preprocessing.image import load_img, img_to_array\n",
    "from tensorflow import keras\n",
    "from tensorflow.keras.layers import Conv2D, MaxPooling2D, Flatten, Dense\n",
    "from tensorflow.keras.models import Sequential\n",
    "from tensorflow.keras.preprocessing import image\n",
    "\n",
    "from sklearn.model_selection import train_test_split"
   ]
  },
  {
   "cell_type": "code",
   "execution_count": 3,
   "id": "0e2fab4d",
   "metadata": {},
   "outputs": [],
   "source": [
    "# selecting paths and image size:\n",
    "IMG_SIZE = 150\n",
    "ROCK_DIR = './/images//rock'\n",
    "PAPER_DIR = './/images//paper'\n",
    "SCISSORS_DIR = './/images//scissors'"
   ]
  },
  {
   "cell_type": "code",
   "execution_count": 4,
   "id": "e7326418",
   "metadata": {},
   "outputs": [],
   "source": [
    "# loading datasets:\n",
    "rock_files = os.listdir(ROCK_DIR)\n",
    "rock_df = pd.DataFrame({'file_path': [os.path.join(ROCK_DIR, f) for f in rock_files], 'rock': 1, 'paper': 0, 'scissors': 0})\n",
    "paper_files = os.listdir(PAPER_DIR)\n",
    "paper_df = pd.DataFrame({'file_path': [os.path.join(PAPER_DIR, f) for f in paper_files], 'rock': 0, 'paper': 1, 'scissors': 0})\n",
    "scissors_files = os.listdir(SCISSORS_DIR)\n",
    "scissors_df = pd.DataFrame({'file_path': [os.path.join(SCISSORS_DIR, f) for f in scissors_files], 'rock': 0, 'paper': 0, 'scissors': 1})\n",
    "df = pd.concat([rock_df, paper_df, scissors_df], ignore_index=True)"
   ]
  },
  {
   "cell_type": "code",
   "execution_count": 5,
   "id": "09696345",
   "metadata": {},
   "outputs": [],
   "source": [
    "# read and preprocess data from the images:\n",
    "def read_image(file_path):\n",
    "    img = load_img(file_path, target_size=(IMG_SIZE, IMG_SIZE))\n",
    "    img_array = img_to_array(img)\n",
    "    img_array /= 255.0\n",
    "    return img_array\n",
    "\n",
    "X = np.zeros((len(df), IMG_SIZE, IMG_SIZE, 3))\n",
    "y = df[['rock', 'paper', 'scissors']].values\n",
    "\n",
    "for i, file_path in enumerate(df['file_path']):\n",
    "    img = read_image(file_path)\n",
    "    X[i] = img"
   ]
  },
  {
   "cell_type": "code",
   "execution_count": 6,
   "id": "f667d98c",
   "metadata": {},
   "outputs": [],
   "source": [
    "# split trains and tests:\n",
    "X_train, X_test, y_train, y_test = train_test_split(X, y, test_size=0.2)"
   ]
  },
  {
   "cell_type": "code",
   "execution_count": 7,
   "id": "65d7949f",
   "metadata": {},
   "outputs": [
    {
     "name": "stdout",
     "output_type": "stream",
     "text": [
      "Epoch 1/5\n",
      "18/18 [==============================] - 15s 794ms/step - loss: 0.7432 - accuracy: 0.6702 - val_loss: 0.3194 - val_accuracy: 0.8881\n",
      "Epoch 2/5\n",
      "18/18 [==============================] - 16s 895ms/step - loss: 0.1772 - accuracy: 0.9456 - val_loss: 0.1076 - val_accuracy: 0.9650\n",
      "Epoch 3/5\n",
      "18/18 [==============================] - 17s 938ms/step - loss: 0.0747 - accuracy: 0.9719 - val_loss: 0.0271 - val_accuracy: 0.9930\n",
      "Epoch 4/5\n",
      "18/18 [==============================] - 17s 947ms/step - loss: 0.0075 - accuracy: 0.9982 - val_loss: 0.0153 - val_accuracy: 0.9930\n",
      "Epoch 5/5\n",
      "18/18 [==============================] - 17s 947ms/step - loss: 0.0031 - accuracy: 1.0000 - val_loss: 0.0173 - val_accuracy: 0.9860\n",
      "5/5 [==============================] - 1s 218ms/step - loss: 0.0173 - accuracy: 0.9860\n"
     ]
    }
   ],
   "source": [
    "# prepare the convolutional neural network:\n",
    "model = Sequential([\n",
    "    Conv2D(32, (3,3), activation='relu', input_shape=(IMG_SIZE, IMG_SIZE, 3)),\n",
    "    MaxPooling2D((2,2)),\n",
    "    Conv2D(64, (3,3), activation='relu'),\n",
    "    MaxPooling2D((2,2)),\n",
    "    Conv2D(128, (3,3), activation='relu'),\n",
    "    MaxPooling2D((2,2)),\n",
    "    Flatten(),\n",
    "    Dense(64, activation='relu'),\n",
    "    Dense(3, activation='softmax')\n",
    "])\n",
    "\n",
    "model.compile(optimizer='adam', loss='categorical_crossentropy', metrics=['accuracy'])\n",
    "\n",
    "# train the model\n",
    "history = model.fit(X_train, y_train, epochs=5, validation_data=(X_test, y_test))\n",
    "\n",
    "# evaluate the model on the testing data\n",
    "test_loss, test_acc = model.evaluate(X_test, y_test)"
   ]
  },
  {
   "cell_type": "code",
   "execution_count": 8,
   "id": "ab27fa50",
   "metadata": {},
   "outputs": [
    {
     "name": "stdout",
     "output_type": "stream",
     "text": [
      "Test accuracy: 0.9860140085220337\n"
     ]
    }
   ],
   "source": [
    "# print accuracy:\n",
    "print('Test accuracy:', test_acc)"
   ]
  },
  {
   "cell_type": "code",
   "execution_count": 9,
   "id": "9c77e5bd",
   "metadata": {},
   "outputs": [],
   "source": [
    "# save model:\n",
    "model.save('my_model.h5')"
   ]
  },
  {
   "cell_type": "code",
   "execution_count": 10,
   "id": "599d4d04",
   "metadata": {},
   "outputs": [
    {
     "name": "stdout",
     "output_type": "stream",
     "text": [
      "1/1 [==============================] - 0s 101ms/step\n",
      "1/1 [==============================] - 0s 78ms/step\n",
      "Predicted class: rock\n"
     ]
    }
   ],
   "source": [
    "# test real model:\n",
    "model = keras.models.load_model('my_model.h5')\n",
    "\n",
    "img = Image.open(\"test.jpg\")\n",
    "img = img.resize((150, 150))\n",
    "img = img.convert(\"RGB\")\n",
    "\n",
    "img_array = np.array(img)\n",
    "img_array = np.expand_dims(img_array, axis=0)\n",
    "prediction = model.predict(img_array)\n",
    "\n",
    "# Preprocess the image data\n",
    "x = image.img_to_array(img)\n",
    "x = np.expand_dims(x, axis=0)\n",
    "x /= 255.0\n",
    "\n",
    "# Make a prediction on the image\n",
    "prediction = model.predict(x)\n",
    "\n",
    "# Print the prediction result\n",
    "classes = ['paper', 'rock', 'scissors']\n",
    "predicted_class = classes[np.argmax(prediction)]\n",
    "print(f'Predicted class: {predicted_class}')"
   ]
  },
  {
   "cell_type": "code",
   "execution_count": null,
   "id": "a3b467b5",
   "metadata": {},
   "outputs": [],
   "source": []
  }
 ],
 "metadata": {
  "kernelspec": {
   "display_name": "Python 3 (ipykernel)",
   "language": "python",
   "name": "python3"
  },
  "language_info": {
   "codemirror_mode": {
    "name": "ipython",
    "version": 3
   },
   "file_extension": ".py",
   "mimetype": "text/x-python",
   "name": "python",
   "nbconvert_exporter": "python",
   "pygments_lexer": "ipython3",
   "version": "3.10.6"
  }
 },
 "nbformat": 4,
 "nbformat_minor": 5
}
